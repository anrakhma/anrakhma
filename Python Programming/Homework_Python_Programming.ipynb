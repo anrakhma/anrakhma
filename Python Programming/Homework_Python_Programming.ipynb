{
  "nbformat": 4,
  "nbformat_minor": 0,
  "metadata": {
    "colab": {
      "name": "Homework Python Programming.ipynb",
      "provenance": [],
      "collapsed_sections": [],
      "toc_visible": true
    },
    "kernelspec": {
      "name": "python3",
      "display_name": "Python 3"
    },
    "language_info": {
      "name": "python"
    }
  },
  "cells": [
    {
      "cell_type": "markdown",
      "metadata": {
        "id": "GQMAjUi_RBga"
      },
      "source": [
        " # Homework Python Programming\n",
        "\n",
        " <b>Group 20</b>\n",
        "\n",
        " Nama 1: Aulia Fauzani Mukti<br>\n",
        "\n",
        " Nama 2: Alfia N. Rakhmatika"
      ]
    },
    {
      "cell_type": "markdown",
      "metadata": {
        "id": "Y2ue3iRyRdK7"
      },
      "source": [
        "## No. 1 Plat Mobil\n",
        "\n",
        "Tentukan dari variable list_plat_mobil = ['B 1234 AB', 'B 6721 TY', 'B 1233 AY', 'B 6629 DD', 'B 1111 AM', 'B 6726 D', 'D 11223 KJ', 'AE 44677 GH', 'AE 67269 AA']. <br>\n",
        "Berapa jumlah plat genap dan ganjil?"
      ]
    },
    {
      "cell_type": "code",
      "metadata": {
        "id": "0j-pXG5dRcGW",
        "colab": {
          "base_uri": "https://localhost:8080/"
        },
        "outputId": "2cb87e04-df62-41e1-b9b0-6a16f8f8dcac"
      },
      "source": [
        "# Create Function\n",
        "def check_plat(list_plat):\n",
        "  genap = 0\n",
        "  ganjil = 0\n",
        "  # Looping for every item in list, do: split string, get integer, determine wheter odd or even number, then calculate total\n",
        "\n",
        "  for mobil in list_plat:\n",
        "    splitstring = mobil.split()\n",
        "    for item in splitstring:\n",
        "      if item.isdigit() == True:\n",
        "        # If the split result is digit, convert to integer then check odd or even number\n",
        "        noplat = int(item)\n",
        "        if noplat % 2 == 0:\n",
        "          genap += 1\n",
        "        else:\n",
        "          ganjil += 1\n",
        "      else:\n",
        "        pass\n",
        "  \n",
        "  return genap, ganjil\n",
        "\n",
        "# Declare variable list\n",
        "list_plat_mobil = ['B 1234 AB', 'B 6721 TY', 'B 1233 AY', 'B 6629 DD', 'B 1111 AM', 'B 6726 D', 'D 11223 KJ', 'AE 44677 GH', 'AE 67269 AA']\n",
        "\n",
        "# Invoke function\n",
        "total_genap, total_ganjil = check_plat(list_plat_mobil)\n",
        "\n",
        "print('Jumlat plat nomor genap adalah', total_genap, '\\nsedangkan plat nomor ganjil adalah', total_ganjil)"
      ],
      "execution_count": 1,
      "outputs": [
        {
          "output_type": "stream",
          "text": [
            "Jumlat plat nomor genap adalah 2 \n",
            "sedangkan plat nomor ganjil adalah 7\n"
          ],
          "name": "stdout"
        }
      ]
    },
    {
      "cell_type": "markdown",
      "metadata": {
        "id": "HsPg58UpLvpO"
      },
      "source": [
        "## No. 2 Deret Fibonacci\n",
        "\n",
        "Buatlah deret fibonacci 12 angka diawali dengan angka 2 dan 3 menggunakan for atau while."
      ]
    },
    {
      "cell_type": "code",
      "metadata": {
        "colab": {
          "base_uri": "https://localhost:8080/"
        },
        "id": "oT6YuDiHLvpP",
        "outputId": "48d00c08-4f6e-4398-8101-4eb32b7d121a"
      },
      "source": [
        "# Create function accepting parameter 2 first digit of fibonacci, and maximum length\n",
        "def deret_fibonacci(a, b, max):\n",
        "    # Declare empty list and variables\n",
        "    deret = []\n",
        "    ind = 0\n",
        "\n",
        "    # Add first digit\n",
        "    deret.append(a)\n",
        "\n",
        "    # Iterate using while for adding next values\n",
        "    while ind < (max-1):\n",
        "        deret.append(b)\n",
        "        a, b = b, a + b\n",
        "        ind += 1    \n",
        "\n",
        "    return deret\n",
        "\n",
        "# Invoke Function\n",
        "deret_fibonacci(2, 3, 12)"
      ],
      "execution_count": 2,
      "outputs": [
        {
          "output_type": "execute_result",
          "data": {
            "text/plain": [
              "[2, 3, 5, 8, 13, 21, 34, 55, 89, 144, 233, 377]"
            ]
          },
          "metadata": {
            "tags": []
          },
          "execution_count": 2
        }
      ]
    },
    {
      "cell_type": "markdown",
      "metadata": {
        "id": "-W5ElqGzLvpQ"
      },
      "source": [
        "## No. 3 Bundling Product\n",
        "\n",
        "Team Campaign PT ABC akan membuat promo bundling category product (berisi 3 category setiap bundling) untuk promo 17 Agustus. PT ABC memiliki 1 jenis category dalam 1 bundling dan urutan tidak menjadi faktor pembeda (c1-c2-c3=c2-c1-c3). Tentukan ada berapa jumlah kemungkinan bundling yang bisa terbentuk?\n",
        "\n",
        "Berikut list code category list_id_category = [c1, c2, c3, c4, c5, c6, c7, c8, c9, c10]"
      ]
    },
    {
      "cell_type": "code",
      "metadata": {
        "colab": {
          "base_uri": "https://localhost:8080/"
        },
        "id": "T4weh3fmLvpR",
        "outputId": "8312ba6e-f32d-4505-a183-a39f8f317348"
      },
      "source": [
        "# Declare list category\n",
        "list_id_category = ['c1', 'c2', 'c3', 'c4', 'c5', 'c6', 'c7', 'c8', 'c9', 'c10']\n",
        "\n",
        "# Declare empty list for list of product bundles\n",
        "productbundle = []\n",
        "\n",
        "# Iterate using for loop\n",
        "for itemx in list_id_category:\n",
        "    for itemy in list_id_category:\n",
        "        for itemz in list_id_category:\n",
        "            if (itemx != itemy) and (itemx != itemz) and (itemy != itemz):\n",
        "                to_add = [itemx, itemy, itemz]\n",
        "                # Sort to_add\n",
        "                to_add = sorted(to_add)\n",
        "                if to_add not in productbundle:\n",
        "                    # Add to list of bundle\n",
        "                    productbundle.append(to_add)\n",
        "                else:\n",
        "                    pass\n",
        "            else:\n",
        "                pass\n",
        "\n",
        "print('Total combinations of product category is', len(productbundle))"
      ],
      "execution_count": 3,
      "outputs": [
        {
          "output_type": "stream",
          "text": [
            "Total combinations of product category is 120\n"
          ],
          "name": "stdout"
        }
      ]
    },
    {
      "cell_type": "markdown",
      "metadata": {
        "id": "XA5ogT5eLvpS"
      },
      "source": [
        "## No. 4 String Processor\n",
        "Buatlah sebuah function string_processor dengan inputan 2 parameter, yaitu suatu string 1 kata dan nama proses yang akan dilakukan. Function ini memiliki 4 proses:<br>\n",
        "a. first_char: return huruf pertama dari string yang diinput<br>\n",
        "b. last_char: return huruf terakhir dari string yang diinput<br>\n",
        "c. num_chars: return jumlah huruf dari string yang diinput<br>\n",
        "d. num_vowels: return jumlah huruf vocal dari string yang diinput<br>"
      ]
    },
    {
      "cell_type": "code",
      "metadata": {
        "colab": {
          "base_uri": "https://localhost:8080/"
        },
        "id": "Ez7ffklMLvpT",
        "outputId": "db0cd9c1-0b8a-4fbf-e5d7-7e726877b428"
      },
      "source": [
        "# Create function string processor\n",
        "def string_processor(mystring, proses):\n",
        "    # Conditional\n",
        "    if proses == 'first_char':\n",
        "        return mystring[0]\n",
        "    elif proses == 'last_char':\n",
        "        return mystring[-1]\n",
        "    elif proses == 'num_chars':\n",
        "        return len(mystring)\n",
        "    elif proses == 'num_vowels':\n",
        "        vowels = ['a', 'i', 'u', 'e', 'o']\n",
        "        return len([letter for letter in mystring if letter in vowels])\n",
        "    else:\n",
        "        return False\n",
        "\n",
        "# Invoke function\n",
        "mystring = 'rakamin'\n",
        "proses1 = 'first_char'\n",
        "proses2 = 'last_char'\n",
        "proses3 = 'num_chars'\n",
        "proses4 = 'num_vowels'\n",
        "print('Result of function', proses1, 'for string', mystring, 'is', string_processor(mystring, proses1))\n",
        "print('Result of function', proses2, 'for string', mystring, 'is', string_processor(mystring, proses2))\n",
        "print('Result of function', proses3, 'for string', mystring, 'is', string_processor(mystring, proses3))\n",
        "print('Result of function', proses4, 'for string', mystring, 'is', string_processor(mystring, proses4))"
      ],
      "execution_count": 4,
      "outputs": [
        {
          "output_type": "stream",
          "text": [
            "Result of function first_char for string rakamin is r\n",
            "Result of function last_char for string rakamin is n\n",
            "Result of function num_chars for string rakamin is 7\n",
            "Result of function num_vowels for string rakamin is 3\n"
          ],
          "name": "stdout"
        }
      ]
    },
    {
      "cell_type": "markdown",
      "metadata": {
        "id": "EUb5KEgGLvpU"
      },
      "source": [
        "## No. 5 Lambda Function Rakamin Store\n",
        "Menggunakan dataset rakamin_store_city_monthly, Buatlah 1 kolom baru dengan teknik apply lambda tanpa function dengan nama kolom is_gmail dengan value True jika menggunakan gmail dan False jika selain gmail.<br>\n",
        "Tentukan ada berapa user yang menggunakan email gmail pada tahun 2018."
      ]
    },
    {
      "cell_type": "code",
      "metadata": {
        "id": "n3utqRIGH2Iv",
        "colab": {
          "base_uri": "https://localhost:8080/"
        },
        "outputId": "fa7e2d82-f03d-4ef5-94ef-9f3bc8d7ec59"
      },
      "source": [
        "# Import pandas\n",
        "import pandas as pd\n",
        "\n",
        "# Read File csv\n",
        "try:\n",
        "  url = 'https://raw.githubusercontent.com/anrakhma/Rakamin_Data_Science/master/Assignments/Python%20Programming/rakamin_store_city_monthly.csv?token=ASTZHOGSZSDCPEUCYPFMWZLAWIXYI'\n",
        "  df = pd.read_csv(url, sep=';')\n",
        "except:\n",
        "  url = '/content/sample_data/rakamin_store_city_monthly.csv'\n",
        "  df = pd.read_csv(url, sep=';')\n",
        "\n",
        "# Create column is_gmail and year\n",
        "df['is_gmail'] = df['email'].apply(lambda x: True if '@gmail.com' in x else False)\n",
        "df['year'] = pd.DatetimeIndex(df['month']).year\n",
        "\n",
        "# Create dataframe group by year and Gmail/Not Gmail\n",
        "df_group = df.groupby(['year', 'is_gmail'])['email'].count().reset_index()\n",
        "\n",
        "# Get total user using gmail in 2018\n",
        "theyear = 2018\n",
        "ind = df_group.index[(df_group['year'] == theyear) & (df_group['is_gmail'] == True)][0]\n",
        "totalgmail = df_group.iloc[ind]['email']\n",
        "print('Total user using gmail in', theyear, 'is', totalgmail)"
      ],
      "execution_count": 5,
      "outputs": [
        {
          "output_type": "stream",
          "text": [
            "Total user using gmail in 2018 is 3\n"
          ],
          "name": "stdout"
        }
      ]
    },
    {
      "cell_type": "markdown",
      "metadata": {
        "id": "pkBvK1enRZXW"
      },
      "source": [
        "## No. 6 Sales dan Profit Superstore\n",
        "Menggunakan dataset superstore, Buatlah function yang bisa menghitung Jumlah Sales dan Profit pada satu tahun dan region tertentu dengan default tahun 2017. Hint: Buat kolom tahun.<br>\n",
        "\n",
        "Tentukan total sales dan profit pada:<br>\n",
        "1. South Region pada tahun 2016.<br>\n",
        "2. West Region pada tahun 2017."
      ]
    },
    {
      "cell_type": "code",
      "metadata": {
        "colab": {
          "base_uri": "https://localhost:8080/",
          "height": 521
        },
        "id": "0LPomOEaLvpW",
        "outputId": "af8b23eb-17e0-4766-f10e-9c5cb46886e5"
      },
      "source": [
        "# Read file\n",
        "try:\n",
        "  urlstore = 'https://raw.githubusercontent.com/anrakhma/Rakamin_Data_Science/master/Assignments/Python%20Programming/superstore.xls?token=ASTZHOG6M42SIIUNLO6WTP3AWIXUE'\n",
        "  dfstore = pd.read_excel(urlstore)\n",
        "except:\n",
        "  urlstore = '/content/sample_data/superstore.xls'\n",
        "  dfstore = pd.read_excel(urlstore)\n",
        "\n",
        "# Create new column 'OrderYear'\n",
        "dfstore['Order Year'] = pd.DatetimeIndex(dfstore['Order Date']).year\n",
        "\n",
        "# Groupby data based on year and region, get total order, and sum Sales and Profit\n",
        "store_group = dfstore.groupby(['Order Year', 'Region']).agg({\n",
        "    'Order ID':'count',\n",
        "    'Sales':'sum',\n",
        "    'Profit':'sum'\n",
        "}).reset_index()\n",
        "\n",
        "# Rename column\n",
        "store_group.columns = ['Order Year', 'Region', 'Total Order', 'Total Sales', 'Total Profit']\n",
        "store_group"
      ],
      "execution_count": 6,
      "outputs": [
        {
          "output_type": "execute_result",
          "data": {
            "text/html": [
              "<div>\n",
              "<style scoped>\n",
              "    .dataframe tbody tr th:only-of-type {\n",
              "        vertical-align: middle;\n",
              "    }\n",
              "\n",
              "    .dataframe tbody tr th {\n",
              "        vertical-align: top;\n",
              "    }\n",
              "\n",
              "    .dataframe thead th {\n",
              "        text-align: right;\n",
              "    }\n",
              "</style>\n",
              "<table border=\"1\" class=\"dataframe\">\n",
              "  <thead>\n",
              "    <tr style=\"text-align: right;\">\n",
              "      <th></th>\n",
              "      <th>Order Year</th>\n",
              "      <th>Region</th>\n",
              "      <th>Total Order</th>\n",
              "      <th>Total Sales</th>\n",
              "      <th>Total Profit</th>\n",
              "    </tr>\n",
              "  </thead>\n",
              "  <tbody>\n",
              "    <tr>\n",
              "      <th>0</th>\n",
              "      <td>2014</td>\n",
              "      <td>Central</td>\n",
              "      <td>466</td>\n",
              "      <td>103838.1646</td>\n",
              "      <td>539.5534</td>\n",
              "    </tr>\n",
              "    <tr>\n",
              "      <th>1</th>\n",
              "      <td>2014</td>\n",
              "      <td>East</td>\n",
              "      <td>517</td>\n",
              "      <td>128680.4570</td>\n",
              "      <td>17059.6095</td>\n",
              "    </tr>\n",
              "    <tr>\n",
              "      <th>2</th>\n",
              "      <td>2014</td>\n",
              "      <td>South</td>\n",
              "      <td>349</td>\n",
              "      <td>103845.8435</td>\n",
              "      <td>11879.1200</td>\n",
              "    </tr>\n",
              "    <tr>\n",
              "      <th>3</th>\n",
              "      <td>2014</td>\n",
              "      <td>West</td>\n",
              "      <td>661</td>\n",
              "      <td>147883.0330</td>\n",
              "      <td>20065.6912</td>\n",
              "    </tr>\n",
              "    <tr>\n",
              "      <th>4</th>\n",
              "      <td>2015</td>\n",
              "      <td>Central</td>\n",
              "      <td>476</td>\n",
              "      <td>102874.2220</td>\n",
              "      <td>11716.8020</td>\n",
              "    </tr>\n",
              "    <tr>\n",
              "      <th>5</th>\n",
              "      <td>2015</td>\n",
              "      <td>East</td>\n",
              "      <td>644</td>\n",
              "      <td>156332.0570</td>\n",
              "      <td>21091.0130</td>\n",
              "    </tr>\n",
              "    <tr>\n",
              "      <th>6</th>\n",
              "      <td>2015</td>\n",
              "      <td>South</td>\n",
              "      <td>340</td>\n",
              "      <td>71359.9805</td>\n",
              "      <td>8318.5940</td>\n",
              "    </tr>\n",
              "    <tr>\n",
              "      <th>7</th>\n",
              "      <td>2015</td>\n",
              "      <td>West</td>\n",
              "      <td>642</td>\n",
              "      <td>139966.2495</td>\n",
              "      <td>20492.1947</td>\n",
              "    </tr>\n",
              "    <tr>\n",
              "      <th>8</th>\n",
              "      <td>2016</td>\n",
              "      <td>Central</td>\n",
              "      <td>603</td>\n",
              "      <td>147429.3760</td>\n",
              "      <td>19899.1629</td>\n",
              "    </tr>\n",
              "    <tr>\n",
              "      <th>9</th>\n",
              "      <td>2016</td>\n",
              "      <td>East</td>\n",
              "      <td>766</td>\n",
              "      <td>180685.8220</td>\n",
              "      <td>20141.5961</td>\n",
              "    </tr>\n",
              "    <tr>\n",
              "      <th>10</th>\n",
              "      <td>2016</td>\n",
              "      <td>South</td>\n",
              "      <td>413</td>\n",
              "      <td>93610.2235</td>\n",
              "      <td>17702.8084</td>\n",
              "    </tr>\n",
              "    <tr>\n",
              "      <th>11</th>\n",
              "      <td>2016</td>\n",
              "      <td>West</td>\n",
              "      <td>805</td>\n",
              "      <td>187480.1765</td>\n",
              "      <td>24051.6069</td>\n",
              "    </tr>\n",
              "    <tr>\n",
              "      <th>12</th>\n",
              "      <td>2017</td>\n",
              "      <td>Central</td>\n",
              "      <td>778</td>\n",
              "      <td>147098.1282</td>\n",
              "      <td>7550.8442</td>\n",
              "    </tr>\n",
              "    <tr>\n",
              "      <th>13</th>\n",
              "      <td>2017</td>\n",
              "      <td>East</td>\n",
              "      <td>921</td>\n",
              "      <td>213082.9040</td>\n",
              "      <td>33230.5614</td>\n",
              "    </tr>\n",
              "    <tr>\n",
              "      <th>14</th>\n",
              "      <td>2017</td>\n",
              "      <td>South</td>\n",
              "      <td>518</td>\n",
              "      <td>122905.8575</td>\n",
              "      <td>8848.9079</td>\n",
              "    </tr>\n",
              "    <tr>\n",
              "      <th>15</th>\n",
              "      <td>2017</td>\n",
              "      <td>West</td>\n",
              "      <td>1095</td>\n",
              "      <td>250128.3655</td>\n",
              "      <td>43808.9561</td>\n",
              "    </tr>\n",
              "  </tbody>\n",
              "</table>\n",
              "</div>"
            ],
            "text/plain": [
              "    Order Year   Region  Total Order  Total Sales  Total Profit\n",
              "0         2014  Central          466  103838.1646      539.5534\n",
              "1         2014     East          517  128680.4570    17059.6095\n",
              "2         2014    South          349  103845.8435    11879.1200\n",
              "3         2014     West          661  147883.0330    20065.6912\n",
              "4         2015  Central          476  102874.2220    11716.8020\n",
              "5         2015     East          644  156332.0570    21091.0130\n",
              "6         2015    South          340   71359.9805     8318.5940\n",
              "7         2015     West          642  139966.2495    20492.1947\n",
              "8         2016  Central          603  147429.3760    19899.1629\n",
              "9         2016     East          766  180685.8220    20141.5961\n",
              "10        2016    South          413   93610.2235    17702.8084\n",
              "11        2016     West          805  187480.1765    24051.6069\n",
              "12        2017  Central          778  147098.1282     7550.8442\n",
              "13        2017     East          921  213082.9040    33230.5614\n",
              "14        2017    South          518  122905.8575     8848.9079\n",
              "15        2017     West         1095  250128.3655    43808.9561"
            ]
          },
          "metadata": {
            "tags": []
          },
          "execution_count": 6
        }
      ]
    },
    {
      "cell_type": "code",
      "metadata": {
        "colab": {
          "base_uri": "https://localhost:8080/"
        },
        "id": "g3TnBXh9LvpX",
        "outputId": "7d2edfcf-9555-45df-a02e-686355c02edb"
      },
      "source": [
        "# Get value requested\n",
        "# South Region in 2016\n",
        "southsales2016 = store_group.loc[store_group.index[(store_group['Region'] == 'South') & (store_group['Order Year'] == 2016)][0],'Total Sales']\n",
        "southprofit2016 = store_group.loc[store_group.index[(store_group['Region'] == 'South') & (store_group['Order Year'] == 2016)][0],'Total Profit']\n",
        "\n",
        "print('South Region in 2016: Total Sales is', round(southsales2016, 2),'and Total Profit is', round(southprofit2016,2))\n",
        "\n",
        "# West Region in 2017\n",
        "westsales2017 = store_group.loc[store_group.index[(store_group['Region'] == 'West') & (store_group['Order Year'] == 2017)][0],'Total Sales']\n",
        "westprofit2017 = store_group.loc[store_group.index[(store_group['Region'] == 'West') & (store_group['Order Year'] == 2017)][0],'Total Profit']\n",
        "\n",
        "print('West Region in 2017: Total Sales is', round(westsales2017, 2),'and Total Profit is', round(westprofit2017,2))\n"
      ],
      "execution_count": 7,
      "outputs": [
        {
          "output_type": "stream",
          "text": [
            "South Region in 2016: Total Sales is 93610.22 and Total Profit is 17702.81\n",
            "West Region in 2017: Total Sales is 250128.37 and Total Profit is 43808.96\n"
          ],
          "name": "stdout"
        }
      ]
    },
    {
      "cell_type": "markdown",
      "metadata": {
        "id": "T0Jx1JIoLvpX"
      },
      "source": [
        "## No. 7 Segment Data\n",
        "Menggunakan dataset superstore. Buatlah 3 kelompok 'segment' (high, medium, dan low) berdasarkan performance pembelian yang digunakan sebagai acuan tim bisnis untuk mengelompokkan customer superstore.<br>\n",
        "\n",
        "Instruksi:<br>\n",
        "1. Bantulah tim bisnis untuk menentukan kriteria pengelompokkan untuk 3 segmentasi customer ini, dan gunakan iterrows atau apply lambda sebagai teknik pembuatan kolom baru!<br>\n",
        "2. Berikan alasan kalian dalam penentuan kriteria pengelompokkan customer yang dibuat!<br>\n",
        "3. Tentukan jumlah customer pada masing-masing segment di tahun 2017!<br>\n",
        "<br>\n",
        "Hint: Pahami setiap row pada dataset, pastikan jumlah customer unique"
      ]
    },
    {
      "cell_type": "code",
      "metadata": {
        "colab": {
          "base_uri": "https://localhost:8080/"
        },
        "id": "dWsgOhWLLvpX",
        "outputId": "c7db0986-db74-4bd2-e77f-da965d77a225"
      },
      "source": [
        "\"\"\"\n",
        "Valuable Customer dapat diukur dari:\n",
        "1. Jumlah order yang dilakukan per customer\n",
        "2. Total amount/sales yang dibayarkan tiap kali order\n",
        "\n",
        "Pengukuran dilakukan untuk data per customer per tahun sehingga satu customer dengan segment High tahun lalu belum tentu High juga tahun ini. \n",
        "\n",
        "Menentukan justifikasi low, medium, high dengan referensi data statistik sederhana dari dataset keseluruhan (bukan per tahun):\n",
        "- Batas High menggunakan percentile 66\n",
        "- Batas Low menggunakan percentile 33\n",
        "- Diantara keduanya adalah medium\n",
        "\n",
        "Klasifikasi ini berlaku untuk data jumlah order dan amount sales. Jika setelah pengecekan kedua data tersebut terkategori berbeda, maka kategori yang diambil atas customer tersebut adalah kategori yang lebih tinggi (medium lebih tinggi dari low, high lebih tinggi dari medium). Misalnya dari total order statusnya Low namun total sales statusnya High, maka customer tersebut statusnya High, dst.\n",
        "\"\"\"\n",
        "# Read file\n",
        "try:\n",
        "  urlstore = 'https://raw.githubusercontent.com/anrakhma/Rakamin_Data_Science/master/Assignments/Python%20Programming/superstore.xls?token=ASTZHOG6M42SIIUNLO6WTP3AWIXUE'\n",
        "  dfsuperstore = pd.read_excel(urlstore)\n",
        "except:\n",
        "  urlstore = '/content/sample_data/superstore.xls'\n",
        "  dfsuperstore = pd.read_excel(urlstore)\n",
        "\n",
        "# Create Column 'Order Year'\n",
        "dfsuperstore['Order Year'] = pd.DatetimeIndex(dfsuperstore['Order Date']).year\n",
        "\n",
        "# Count total order and sales per customer\n",
        "dfcustomer = dfsuperstore.groupby('Customer ID').agg({\n",
        "    'Row ID':'count',\n",
        "    'Sales':'sum'\n",
        "}).reset_index()\n",
        "\n",
        "# Rename columns\n",
        "dfcustomer.columns = ['Customer ID', 'Total Order', 'Total Sales']\n",
        "\n",
        "# Check is customer unique based on Customer ID per year\n",
        "print(dfcustomer['Customer ID'].nunique() == dfcustomer.shape[0])\n",
        "print('Total data unique per customer =', dfcustomer['Customer ID'].nunique())"
      ],
      "execution_count": 8,
      "outputs": [
        {
          "output_type": "stream",
          "text": [
            "True\n",
            "Total data unique per customer = 793\n"
          ],
          "name": "stdout"
        }
      ]
    },
    {
      "cell_type": "code",
      "metadata": {
        "colab": {
          "base_uri": "https://localhost:8080/",
          "height": 284
        },
        "id": "DtlcqXqOLvpY",
        "outputId": "fc438c6a-d456-45b4-fd78-7071c1122f84"
      },
      "source": [
        "# Check Percentile for total order and sales per customer\n",
        "dfcustomer.describe(percentiles=[.33,.66])"
      ],
      "execution_count": 9,
      "outputs": [
        {
          "output_type": "execute_result",
          "data": {
            "text/html": [
              "<div>\n",
              "<style scoped>\n",
              "    .dataframe tbody tr th:only-of-type {\n",
              "        vertical-align: middle;\n",
              "    }\n",
              "\n",
              "    .dataframe tbody tr th {\n",
              "        vertical-align: top;\n",
              "    }\n",
              "\n",
              "    .dataframe thead th {\n",
              "        text-align: right;\n",
              "    }\n",
              "</style>\n",
              "<table border=\"1\" class=\"dataframe\">\n",
              "  <thead>\n",
              "    <tr style=\"text-align: right;\">\n",
              "      <th></th>\n",
              "      <th>Total Order</th>\n",
              "      <th>Total Sales</th>\n",
              "    </tr>\n",
              "  </thead>\n",
              "  <tbody>\n",
              "    <tr>\n",
              "      <th>count</th>\n",
              "      <td>793.000000</td>\n",
              "      <td>793.000000</td>\n",
              "    </tr>\n",
              "    <tr>\n",
              "      <th>mean</th>\n",
              "      <td>12.602774</td>\n",
              "      <td>2896.848500</td>\n",
              "    </tr>\n",
              "    <tr>\n",
              "      <th>std</th>\n",
              "      <td>6.242559</td>\n",
              "      <td>2628.670117</td>\n",
              "    </tr>\n",
              "    <tr>\n",
              "      <th>min</th>\n",
              "      <td>1.000000</td>\n",
              "      <td>4.833000</td>\n",
              "    </tr>\n",
              "    <tr>\n",
              "      <th>33%</th>\n",
              "      <td>9.000000</td>\n",
              "      <td>1436.925440</td>\n",
              "    </tr>\n",
              "    <tr>\n",
              "      <th>50%</th>\n",
              "      <td>12.000000</td>\n",
              "      <td>2256.394000</td>\n",
              "    </tr>\n",
              "    <tr>\n",
              "      <th>66%</th>\n",
              "      <td>14.000000</td>\n",
              "      <td>3076.524560</td>\n",
              "    </tr>\n",
              "    <tr>\n",
              "      <th>max</th>\n",
              "      <td>37.000000</td>\n",
              "      <td>25043.050000</td>\n",
              "    </tr>\n",
              "  </tbody>\n",
              "</table>\n",
              "</div>"
            ],
            "text/plain": [
              "       Total Order   Total Sales\n",
              "count   793.000000    793.000000\n",
              "mean     12.602774   2896.848500\n",
              "std       6.242559   2628.670117\n",
              "min       1.000000      4.833000\n",
              "33%       9.000000   1436.925440\n",
              "50%      12.000000   2256.394000\n",
              "66%      14.000000   3076.524560\n",
              "max      37.000000  25043.050000"
            ]
          },
          "metadata": {
            "tags": []
          },
          "execution_count": 9
        }
      ]
    },
    {
      "cell_type": "code",
      "metadata": {
        "id": "PrcKrJmRLvpZ"
      },
      "source": [
        "# Create Function for conditional logics\n",
        "def segment_customer(x):\n",
        "    status_order = 'High' if x['Total Order'] >= 14 else 'Medium' if x['Total Order'] >= 9 and x['Total Order'] < 14 else 'Low'\n",
        "    status_sales = 'High' if x['Total Sales'] >= 3077 else 'Medium' if x['Total Sales'] >= 1437 and x['Total Sales'] < 3077 else 'Low'\n",
        "    \n",
        "    if status_order == 'High':\n",
        "         status = 'High'\n",
        "    elif status_order == 'Medium':\n",
        "        if status_sales == 'High':\n",
        "            status = 'High'\n",
        "        elif status_sales == 'Medium':\n",
        "             status = 'Medium'\n",
        "        else:\n",
        "             status = 'Medium'\n",
        "    elif status_order == 'Low':\n",
        "        if status_sales == 'High':\n",
        "            status = 'High'\n",
        "        elif status_sales == 'Medium':\n",
        "             status = 'Medium'\n",
        "        else:\n",
        "             status = 'Low'\n",
        "\n",
        "    return status"
      ],
      "execution_count": 10,
      "outputs": []
    },
    {
      "cell_type": "code",
      "metadata": {
        "colab": {
          "base_uri": "https://localhost:8080/",
          "height": 195
        },
        "id": "yr7VSa07Lvpa",
        "outputId": "2ef25ea3-44c5-4a92-f2a3-508a2c0f2de7"
      },
      "source": [
        "# Create new dataframe groupby Customer ID and Year\n",
        "dfcustomeryear = dfsuperstore.groupby(['Order Year','Customer ID']).agg({\n",
        "    'Row ID':'count',\n",
        "    'Sales':'sum'\n",
        "}).reset_index()\n",
        "\n",
        "# Rename columns\n",
        "dfcustomeryear.columns = ['Order Year', 'Customer ID', 'Total Order', 'Total Sales']\n",
        "dfcustomeryear.head()"
      ],
      "execution_count": 11,
      "outputs": [
        {
          "output_type": "execute_result",
          "data": {
            "text/html": [
              "<div>\n",
              "<style scoped>\n",
              "    .dataframe tbody tr th:only-of-type {\n",
              "        vertical-align: middle;\n",
              "    }\n",
              "\n",
              "    .dataframe tbody tr th {\n",
              "        vertical-align: top;\n",
              "    }\n",
              "\n",
              "    .dataframe thead th {\n",
              "        text-align: right;\n",
              "    }\n",
              "</style>\n",
              "<table border=\"1\" class=\"dataframe\">\n",
              "  <thead>\n",
              "    <tr style=\"text-align: right;\">\n",
              "      <th></th>\n",
              "      <th>Order Year</th>\n",
              "      <th>Customer ID</th>\n",
              "      <th>Total Order</th>\n",
              "      <th>Total Sales</th>\n",
              "    </tr>\n",
              "  </thead>\n",
              "  <tbody>\n",
              "    <tr>\n",
              "      <th>0</th>\n",
              "      <td>2014</td>\n",
              "      <td>AA-10315</td>\n",
              "      <td>4</td>\n",
              "      <td>756.048</td>\n",
              "    </tr>\n",
              "    <tr>\n",
              "      <th>1</th>\n",
              "      <td>2014</td>\n",
              "      <td>AA-10375</td>\n",
              "      <td>2</td>\n",
              "      <td>50.792</td>\n",
              "    </tr>\n",
              "    <tr>\n",
              "      <th>2</th>\n",
              "      <td>2014</td>\n",
              "      <td>AA-10480</td>\n",
              "      <td>1</td>\n",
              "      <td>27.460</td>\n",
              "    </tr>\n",
              "    <tr>\n",
              "      <th>3</th>\n",
              "      <td>2014</td>\n",
              "      <td>AA-10645</td>\n",
              "      <td>6</td>\n",
              "      <td>1434.330</td>\n",
              "    </tr>\n",
              "    <tr>\n",
              "      <th>4</th>\n",
              "      <td>2014</td>\n",
              "      <td>AB-10015</td>\n",
              "      <td>4</td>\n",
              "      <td>322.216</td>\n",
              "    </tr>\n",
              "  </tbody>\n",
              "</table>\n",
              "</div>"
            ],
            "text/plain": [
              "   Order Year Customer ID  Total Order  Total Sales\n",
              "0        2014    AA-10315            4      756.048\n",
              "1        2014    AA-10375            2       50.792\n",
              "2        2014    AA-10480            1       27.460\n",
              "3        2014    AA-10645            6     1434.330\n",
              "4        2014    AB-10015            4      322.216"
            ]
          },
          "metadata": {
            "tags": []
          },
          "execution_count": 11
        }
      ]
    },
    {
      "cell_type": "code",
      "metadata": {
        "colab": {
          "base_uri": "https://localhost:8080/",
          "height": 195
        },
        "id": "XfyCDR4QLvpa",
        "outputId": "1ed0b946-1352-48c9-8cb1-5931664c1142"
      },
      "source": [
        "# Apply Function to create new column in dataset grouped by per year\n",
        "dfcustomeryear['Segment'] = dfcustomeryear.apply(lambda x: segment_customer(x), axis=1)\n",
        "dfcustomeryear.head()"
      ],
      "execution_count": 12,
      "outputs": [
        {
          "output_type": "execute_result",
          "data": {
            "text/html": [
              "<div>\n",
              "<style scoped>\n",
              "    .dataframe tbody tr th:only-of-type {\n",
              "        vertical-align: middle;\n",
              "    }\n",
              "\n",
              "    .dataframe tbody tr th {\n",
              "        vertical-align: top;\n",
              "    }\n",
              "\n",
              "    .dataframe thead th {\n",
              "        text-align: right;\n",
              "    }\n",
              "</style>\n",
              "<table border=\"1\" class=\"dataframe\">\n",
              "  <thead>\n",
              "    <tr style=\"text-align: right;\">\n",
              "      <th></th>\n",
              "      <th>Order Year</th>\n",
              "      <th>Customer ID</th>\n",
              "      <th>Total Order</th>\n",
              "      <th>Total Sales</th>\n",
              "      <th>Segment</th>\n",
              "    </tr>\n",
              "  </thead>\n",
              "  <tbody>\n",
              "    <tr>\n",
              "      <th>0</th>\n",
              "      <td>2014</td>\n",
              "      <td>AA-10315</td>\n",
              "      <td>4</td>\n",
              "      <td>756.048</td>\n",
              "      <td>Low</td>\n",
              "    </tr>\n",
              "    <tr>\n",
              "      <th>1</th>\n",
              "      <td>2014</td>\n",
              "      <td>AA-10375</td>\n",
              "      <td>2</td>\n",
              "      <td>50.792</td>\n",
              "      <td>Low</td>\n",
              "    </tr>\n",
              "    <tr>\n",
              "      <th>2</th>\n",
              "      <td>2014</td>\n",
              "      <td>AA-10480</td>\n",
              "      <td>1</td>\n",
              "      <td>27.460</td>\n",
              "      <td>Low</td>\n",
              "    </tr>\n",
              "    <tr>\n",
              "      <th>3</th>\n",
              "      <td>2014</td>\n",
              "      <td>AA-10645</td>\n",
              "      <td>6</td>\n",
              "      <td>1434.330</td>\n",
              "      <td>Low</td>\n",
              "    </tr>\n",
              "    <tr>\n",
              "      <th>4</th>\n",
              "      <td>2014</td>\n",
              "      <td>AB-10015</td>\n",
              "      <td>4</td>\n",
              "      <td>322.216</td>\n",
              "      <td>Low</td>\n",
              "    </tr>\n",
              "  </tbody>\n",
              "</table>\n",
              "</div>"
            ],
            "text/plain": [
              "   Order Year Customer ID  Total Order  Total Sales Segment\n",
              "0        2014    AA-10315            4      756.048     Low\n",
              "1        2014    AA-10375            2       50.792     Low\n",
              "2        2014    AA-10480            1       27.460     Low\n",
              "3        2014    AA-10645            6     1434.330     Low\n",
              "4        2014    AB-10015            4      322.216     Low"
            ]
          },
          "metadata": {
            "tags": []
          },
          "execution_count": 12
        }
      ]
    },
    {
      "cell_type": "code",
      "metadata": {
        "colab": {
          "base_uri": "https://localhost:8080/",
          "height": 136
        },
        "id": "TbOkK3sYLvpb",
        "outputId": "fc434a1b-d5ee-4314-d18e-f992df56b584"
      },
      "source": [
        "# Show Total customer on each segment in 2017\n",
        "dftotalcustomer = dfcustomeryear.groupby(['Order Year', 'Segment'])['Customer ID'].count().reset_index()\n",
        "dftotalcustomer[dftotalcustomer['Order Year'] == 2017]"
      ],
      "execution_count": 13,
      "outputs": [
        {
          "output_type": "execute_result",
          "data": {
            "text/html": [
              "<div>\n",
              "<style scoped>\n",
              "    .dataframe tbody tr th:only-of-type {\n",
              "        vertical-align: middle;\n",
              "    }\n",
              "\n",
              "    .dataframe tbody tr th {\n",
              "        vertical-align: top;\n",
              "    }\n",
              "\n",
              "    .dataframe thead th {\n",
              "        text-align: right;\n",
              "    }\n",
              "</style>\n",
              "<table border=\"1\" class=\"dataframe\">\n",
              "  <thead>\n",
              "    <tr style=\"text-align: right;\">\n",
              "      <th></th>\n",
              "      <th>Order Year</th>\n",
              "      <th>Segment</th>\n",
              "      <th>Customer ID</th>\n",
              "    </tr>\n",
              "  </thead>\n",
              "  <tbody>\n",
              "    <tr>\n",
              "      <th>9</th>\n",
              "      <td>2017</td>\n",
              "      <td>High</td>\n",
              "      <td>53</td>\n",
              "    </tr>\n",
              "    <tr>\n",
              "      <th>10</th>\n",
              "      <td>2017</td>\n",
              "      <td>Low</td>\n",
              "      <td>510</td>\n",
              "    </tr>\n",
              "    <tr>\n",
              "      <th>11</th>\n",
              "      <td>2017</td>\n",
              "      <td>Medium</td>\n",
              "      <td>130</td>\n",
              "    </tr>\n",
              "  </tbody>\n",
              "</table>\n",
              "</div>"
            ],
            "text/plain": [
              "    Order Year Segment  Customer ID\n",
              "9         2017    High           53\n",
              "10        2017     Low          510\n",
              "11        2017  Medium          130"
            ]
          },
          "metadata": {
            "tags": []
          },
          "execution_count": 13
        }
      ]
    },
    {
      "cell_type": "markdown",
      "metadata": {
        "id": "bFMG2b2rLvpb"
      },
      "source": [
        "END"
      ]
    }
  ]
}